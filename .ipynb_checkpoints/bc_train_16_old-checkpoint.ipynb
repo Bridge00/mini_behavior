{
 "cells": [
  {
   "cell_type": "code",
   "execution_count": 1,
   "metadata": {},
   "outputs": [],
   "source": [
    "import os \n",
    "import torch\n",
    "import gym\n",
    "import numpy as np\n",
    "import torch.nn as nn\n",
    "from torch.utils.data import Dataset, DataLoader\n",
    "from matplotlib import pyplot as plt\n",
    "from IPython import display\n",
    "plt.style.use(\"ggplot\")\n",
    "from installing_a_printer.utils import load_demos"
   ]
  },
  {
   "cell_type": "code",
   "execution_count": 2,
   "metadata": {},
   "outputs": [],
   "source": [
    "from mini_behavior.envs import *"
   ]
  },
  {
   "cell_type": "markdown",
   "metadata": {},
   "source": [
    "# ONLY CELL TO CHANGE"
   ]
  },
  {
   "cell_type": "code",
   "execution_count": 3,
   "metadata": {},
   "outputs": [
    {
     "name": "stdout",
     "output_type": "stream",
     "text": [
      "MiniGrid-SimpleInstallingAPrinter-16x16-N2-v0\n"
     ]
    }
   ],
   "source": [
    "task_name = 'SimpleInstallingAPrinter'\n",
    "room_size = 16\n",
    "env_name = f'MiniGrid-{task_name}-{room_size}x{room_size}-N2-v0'\n",
    "\n",
    "print(env_name)"
   ]
  },
  {
   "cell_type": "code",
   "execution_count": 4,
   "metadata": {},
   "outputs": [
    {
     "name": "stdout",
     "output_type": "stream",
     "text": [
      "/Users/emilyjin/Code/behavior/mini_behavior/demos/SimpleInstallingAPrinter/16\n"
     ]
    }
   ],
   "source": [
    "ALL_DEMOS_DIR = '/Users/emilyjin/Code/behavior/mini_behavior/demos'\n",
    "ALL_MODELS_DIR = '/Users/emilyjin/Code/behavior/mini_behavior/models'\n",
    "ALL_LOSS_PLOTS_DIR = '/Users/emilyjin/Code/behavior/mini_behavior/loss_plots'\n",
    "\n",
    "demo_dir = os.path.join(ALL_DEMOS_DIR, task_name, str(room_size))\n",
    "print(demo_dir)\n",
    "\n",
    "# load all demonstrations\n",
    "demos = load_demos(demo_dir) # list of (state, action) tuples"
   ]
  },
  {
   "cell_type": "code",
   "execution_count": 5,
   "metadata": {
    "pycharm": {
     "name": "#%%\n"
    }
   },
   "outputs": [
    {
     "name": "stdout",
     "output_type": "stream",
     "text": [
      "env loaded\n"
     ]
    }
   ],
   "source": [
    "env = gym.make(env_name)\n",
    "\n",
    "print('env loaded')"
   ]
  },
  {
   "cell_type": "code",
   "execution_count": 6,
   "metadata": {},
   "outputs": [
    {
     "name": "stdout",
     "output_type": "stream",
     "text": [
      "action_space_size: 6\n",
      "state_space_size: 6\n"
     ]
    }
   ],
   "source": [
    "action_space_size = env.action_space.n\n",
    "state_space_size = len(env.observation_space)\n",
    "\n",
    "print(f'action_space_size: {action_space_size}')\n",
    "print(f'state_space_size: {state_space_size}')"
   ]
  },
  {
   "cell_type": "code",
   "execution_count": 7,
   "metadata": {},
   "outputs": [
    {
     "name": "stdout",
     "output_type": "stream",
     "text": [
      "device cpu\n"
     ]
    }
   ],
   "source": [
    "device = torch.device(\"cuda:0\" if torch.cuda.is_available() else \"cpu\")\n",
    "print(\"device\", device)\n",
    "\n",
    "split = False"
   ]
  },
  {
   "cell_type": "code",
   "execution_count": 8,
   "metadata": {
    "pycharm": {
     "name": "#%%\n"
    }
   },
   "outputs": [],
   "source": [
    "def get_split_idx(num_samples, split=0.8):\n",
    "    np.random.seed(0)\n",
    "    train_idx = np.random.choice(num_samples, int(split * num_samples))\n",
    "    test_idx = [i for i in range(num_samples) if i not in train_idx]\n",
    "\n",
    "    return train_idx, test_idx\n",
    "\n",
    "\n",
    "class DemoDataset(Dataset):\n",
    "    def __init__(self, demo, idxs=None):\n",
    "        self.demo = demo\n",
    "\n",
    "        # get states and actions\n",
    "        states = []\n",
    "        actions = []\n",
    "        for state, action in self.demo:                \n",
    "            obs = (state['agent_x'], state['agent_y'], state['agent_dir'], \n",
    "                   state['printer_inhandofrobot'], state['printer_toggledon'], state['printer_ontop_table'])\n",
    "            states.append(obs)\n",
    "            actions.append(action.value)\n",
    "\n",
    "        idxs = [i for i in range(len(self.demo))] if idxs is None else idxs\n",
    "        \n",
    "        states = torch.tensor(states)\n",
    "        self.states = states[idxs]\n",
    "        \n",
    "        actions = torch.tensor(actions)\n",
    "        self.actions = actions[idxs]\n",
    "\n",
    "    def __len__(self):\n",
    "        return len(self.demo)\n",
    "\n",
    "    def __getitem__(self, idx):\n",
    "        state = self.states[idx]\n",
    "        action = self.actions[idx]\n",
    "\n",
    "        return state, action"
   ]
  },
  {
   "cell_type": "code",
   "execution_count": 9,
   "metadata": {
    "pycharm": {
     "name": "#%%\n"
    }
   },
   "outputs": [],
   "source": [
    "def get_dataloaders(split=None, batch_size=32):\n",
    "    if split:\n",
    "        train_idxs, test_idxs = get_split_idx(len(demos), split)\n",
    "        train_dataset = DemoDataset(demos, train_idxs)\n",
    "        test_dataset = DemoDataset(demos, test_idxs)\n",
    "    else:\n",
    "        train_dataset = DemoDataset(demos)\n",
    "        test_dataset = train_dataset\n",
    "\n",
    "\n",
    "    train_dataloader = DataLoader(train_dataset, batch_size=batch_size, shuffle=True)\n",
    "    test_dataloader = DataLoader(test_dataset)\n",
    "    \n",
    "    return train_dataloader, test_dataloader"
   ]
  },
  {
   "cell_type": "code",
   "execution_count": 12,
   "metadata": {
    "pycharm": {
     "name": "#%%\n"
    }
   },
   "outputs": [],
   "source": [
    "def get_policy(layer_size=64):\n",
    "    mlp_policy = nn.Sequential(\n",
    "        nn.Linear(state_space_size, layer_size),\n",
    "        nn.ReLU(),\n",
    "            \n",
    "        nn.Linear(layer_size, action_space_size),\n",
    "        # nn.Softmax()\n",
    "    )\n",
    "    \n",
    "    return mlp_policy\n",
    "\n",
    "def get_criterion():\n",
    "    return nn.CrossEntropyLoss()"
   ]
  },
  {
   "cell_type": "code",
   "execution_count": 15,
   "metadata": {},
   "outputs": [],
   "source": [
    "def train_epochs(train_dataloader, lr, max_epochs, layer_size):\n",
    "    losses = []\n",
    "\n",
    "    policy = get_policy(layer_size)\n",
    "    criterion = get_criterion()\n",
    "    \n",
    "    optimizer = torch.optim.Adam(policy.parameters(), lr=lr)\n",
    "            \n",
    "    for epoch in range(max_epoch):\n",
    "        total_loss = 0\n",
    "        for s, a in train_dataloader:\n",
    "            # transfer to device\n",
    "            s, a = s.to(device), a.to(device)\n",
    "            criterion.zero_grad()\n",
    "\n",
    "            # model computations\n",
    "            a_pred = policy(s.type(torch.float))\n",
    "            loss = criterion(a_pred, a)\n",
    "            total_loss += loss.item()\n",
    "            optimizer.zero_grad()\n",
    "            loss.backward()\n",
    "            optimizer.step()\n",
    "\n",
    "        print(\"[EPOCH]: %i, [CE LOSS]: %.6f\" % (epoch+1, total_loss / len(train_dataloader)))\n",
    "\n",
    "        display.clear_output(wait=True)\n",
    "\n",
    "        losses.append(total_loss / len(train_dataloader))\n",
    "        \n",
    "        if epoch % 10 == 0:\n",
    "            save_model_and_plot(policy, losses, lr, batch_size, epoch, layer_size)\n",
    "            \n",
    "    return losses, policy, criterion\n",
    "    \n",
    "    \n",
    "def test_policy(test_dataloader, policy, criterion):\n",
    "    with torch.set_grad_enabled(False):\n",
    "        correct = 0\n",
    "        total_loss = 0\n",
    "        for s, a in test_dataloader:\n",
    "            s, a = s.to(device), a.to(device)\n",
    "            a_pred = policy(s.type(torch.float))\n",
    "            loss = criterion(a_pred, a)\n",
    "            total_loss += loss.item()\n",
    "\n",
    "            if a == np.argmax(a_pred):\n",
    "                correct += 1\n",
    "\n",
    "    avg_loss = total_loss / len(test_dataloader)\n",
    "    accuracy = correct / len(test_dataloader)\n",
    "    \n",
    "    print(f'TEST [CE LOSS]: {avg_loss}')\n",
    "    print(f'TEST [ACCURACY]: {accuracy}')\n",
    "    \n",
    "    return avg_loss, accuracy\n",
    "\n",
    "\n",
    "def save_model_and_plot(policy, losses, lr, batch_size, epochs, layer_size):\n",
    "    # model name\n",
    "    model_name = f\"layer_size={layer_size}_lr={lr}_batch={batch_size}_epochs={epochs}\"\n",
    "\n",
    "    # save model\n",
    "    model_dir = os.path.join(ALL_MODELS_DIR, task_name)\n",
    "    if not os.path.isdir(model_dir):\n",
    "        os.mkdir(model_dir)\n",
    "    model_dir = os.path.join(model_dir, str(room_size))\n",
    "    if not os.path.isdir(model_dir):\n",
    "        os.mkdir(model_dir)\n",
    "        \n",
    "    model_path = os.path.join(model_dir, model_name)\n",
    "\n",
    "    torch.save(policy, model_path)\n",
    "\n",
    "    # save plot\n",
    "    if epochs % 100 == 0:\n",
    "        loss_plots_dir = os.path.join(ALL_LOSS_PLOTS_DIR, task_name)\n",
    "        if not os.path.isdir(loss_plots_dir):\n",
    "            os.mkdir(loss_plots_dir)\n",
    "        loss_plots_dir = os.path.join(loss_plots_dir, str(room_size))\n",
    "        if not os.path.isdir(loss_plots_dir):\n",
    "            os.mkdir(loss_plots_dir)\n",
    "\n",
    "        loss_plot_path = os.path.join(loss_plots_dir, f'{model_name}.png')\n",
    "\n",
    "        plt.clf()\n",
    "        plt.plot(losses, label='train loss')\n",
    "        plt.xlabel(\"num epochs\")\n",
    "        plt.ylabel(\"ce loss\")\n",
    "\n",
    "        fig = plt.gcf()    \n",
    "        plt.draw()\n",
    "        fig.savefig(loss_plot_path)"
   ]
  },
  {
   "cell_type": "code",
   "execution_count": 16,
   "metadata": {
    "pycharm": {
     "name": "#%%\n"
    }
   },
   "outputs": [
    {
     "name": "stdout",
     "output_type": "stream",
     "text": [
      "TEST [CE LOSS]: 0.43257550679005136\n",
      "TEST [ACCURACY]: 0.8272025431425977\n"
     ]
    },
    {
     "data": {
      "image/png": "[encoded data removed]",
      "text/plain": [
       "<Figure size 640x480 with 1 Axes>"
      ]
     },
     "metadata": {},
     "output_type": "display_data"
    }
   ],
   "source": [
    "split = None\n",
    "test_losses = {}\n",
    "test_accuracies = {}\n",
    "\n",
    "# hyperparam tuning\n",
    "max_epoch = 400\n",
    "lrs = [1e-1, 1e-2, 1e-3, 1e-4]\n",
    "batch_sizes = [256]\n",
    "layer_sizes = [32, 64, 128]\n",
    "\n",
    "for batch_size in batch_sizes:\n",
    "    train_dataloader, test_dataloader = get_dataloaders(split, batch_size)\n",
    "    \n",
    "    for lr in lrs:\n",
    "        for layer_size in layer_sizes:\n",
    "            losses, policy, criterion = train_epochs(train_dataloader, lr, max_epoch, layer_size)\n",
    "            avg_loss, accuracy = test_policy(test_dataloader, policy, criterion)\n",
    "\n",
    "            params = f\"layer_size={layer_size}_lr={lr}_batch={batch_size}\"\n",
    "            test_losses[params] = avg_loss\n",
    "            test_accuracies[params] = accuracy"
   ]
  },
  {
   "cell_type": "code",
   "execution_count": 18,
   "metadata": {
    "pycharm": {
     "name": "#%%\n"
    }
   },
   "outputs": [
    {
     "name": "stdout",
     "output_type": "stream",
     "text": [
      "best_loss\n",
      "model: layer_size=128_lr=0.01_batch=256\n",
      "loss: 0.17218798383388212\n",
      "best_accuracy\n",
      "model: layer_size=128_lr=0.01_batch=256\n",
      "loss: 0.9132606721162579\n"
     ]
    }
   ],
   "source": [
    "best_loss = 1e100\n",
    "best_loss_params = None\n",
    "best_accuracy = -1\n",
    "best_accuracy_params = None\n",
    "\n",
    "for params in test_losses.keys():\n",
    "    if test_losses[params] < best_loss:\n",
    "        best_loss = test_losses[params]\n",
    "        best_loss_params = params\n",
    "    if test_accuracies[params] > best_accuracy:\n",
    "        best_accuracy = test_accuracies[params]\n",
    "        best_accuracy_params = params\n",
    "\n",
    "print(f'best_loss')\n",
    "print(f'model: {best_loss_params}')\n",
    "print(f'loss: {best_loss}')\n",
    "      \n",
    "print(f'best_accuracy')\n",
    "print(f'model: {best_accuracy_params}')\n",
    "print(f'loss: {best_accuracy}')   "
   ]
  },
  {
   "cell_type": "code",
   "execution_count": null,
   "metadata": {},
   "outputs": [],
   "source": []
  }
 ],
 "metadata": {
  "kernelspec": {
   "display_name": "Python 3 (ipykernel)",
   "language": "python",
   "name": "python3"
  },
  "language_info": {
   "codemirror_mode": {
    "name": "ipython",
    "version": 3
   },
   "file_extension": ".py",
   "mimetype": "text/x-python",
   "name": "python",
   "nbconvert_exporter": "python",
   "pygments_lexer": "ipython3",
   "version": "3.9.1"
  }
 },
 "nbformat": 4,
 "nbformat_minor": 1
}
