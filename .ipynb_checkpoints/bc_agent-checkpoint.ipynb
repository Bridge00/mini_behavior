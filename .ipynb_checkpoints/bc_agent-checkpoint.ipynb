{
 "cells": [
  {
   "cell_type": "code",
   "execution_count": 7,
   "metadata": {},
   "outputs": [],
   "source": [
    "import os \n",
    "import torch\n",
    "import gym\n",
    "import numpy as np\n",
    "import torch.nn as nn\n",
    "from torch.utils.data import Dataset, DataLoader\n",
    "from matplotlib import pyplot as plt\n",
    "from IPython import display\n",
    "plt.style.use(\"ggplot\")\n",
    "from installing_a_printer.utils import load_demo"
   ]
  },
  {
   "cell_type": "code",
   "execution_count": 8,
   "metadata": {},
   "outputs": [],
   "source": [
    "from mini_behavior.envs import *"
   ]
  },
  {
   "cell_type": "code",
   "execution_count": 9,
   "metadata": {
    "pycharm": {
     "name": "#%%\n"
    }
   },
   "outputs": [],
   "source": [
    "task_name = 'InstallingAPrinter'\n",
    "env_name = f'MiniGrid-{task_name}-16x16-N2-v1'\n",
    "\n",
    "env = gym.make(env_name)"
   ]
  },
  {
   "cell_type": "code",
   "execution_count": 10,
   "metadata": {},
   "outputs": [
    {
     "name": "stdout",
     "output_type": "stream",
     "text": [
      "device cpu\n"
     ]
    }
   ],
   "source": [
    "action_space_size = env.action_space.n\n",
    "state_space_size  = 5\n",
    "\n",
    "device = torch.device(\"cuda:0\" if torch.cuda.is_available() else \"cpu\")\n",
    "print(\"device\", device)\n",
    "\n",
    "split = False"
   ]
  },
  {
   "cell_type": "code",
   "execution_count": 25,
   "metadata": {
    "pycharm": {
     "name": "#%%\n"
    }
   },
   "outputs": [],
   "source": [
    "def get_split_idx(num_samples, split=0.8):\n",
    "    np.random.seed(0)\n",
    "    train_idx = np.random.choice(num_samples, int(split * num_samples))\n",
    "    test_idx = [i for i in range(num_samples) if i not in train_idx]\n",
    "\n",
    "    return train_idx, test_idx\n",
    "\n",
    "\n",
    "class DemoDataset(Dataset):\n",
    "    def __init__(self, demo, idxs=None):\n",
    "        self.demo = demo\n",
    "\n",
    "        # get states and actions\n",
    "        states = []\n",
    "        actions = []\n",
    "        for state, action in self.demo.values():\n",
    "            states.append(state)\n",
    "            actions.append(action)\n",
    "\n",
    "        idxs = [i for i in range(len(self.demo))] if idxs is None else idxs\n",
    "        \n",
    "        states = torch.tensor(states)\n",
    "        self.states = states[idxs]\n",
    "        \n",
    "        actions = torch.tensor(actions)\n",
    "        self.actions = actions[idxs]\n",
    "\n",
    "    def __len__(self):\n",
    "        return len(self.demo)\n",
    "\n",
    "    def __getitem__(self, idx):\n",
    "        state = self.states[idx]\n",
    "        action = self.actions[idx]\n",
    "\n",
    "        return state, action"
   ]
  },
  {
   "cell_type": "code",
   "execution_count": 26,
   "metadata": {
    "pycharm": {
     "name": "#%%\n"
    }
   },
   "outputs": [],
   "source": [
    "params = {'batch_size': 1,\n",
    "          'shuffle': True\n",
    "          }\n",
    "\n",
    "# load demonstration data\n",
    "demo_filename = 'demo_MiniGrid-InstallingAPrinter-16x16-N2-v1'\n",
    "demo_dir = '/Users/emilyjin/Code/behavior/mini_behavior/installing_a_printer'\n",
    "demo_path = os.path.join(demo_dir, demo_filename)\n",
    "demo = load_demo(demo_path)\n",
    "\n",
    "\n",
    "if split:\n",
    "    train_idxs, test_idxs = get_split_idx(len(demo), split)\n",
    "    train_dataset = DemoDataset(demo, train_idxs)\n",
    "    test_dataset = DemoDataset(demo, test_idxs)\n",
    "else:\n",
    "    train_dataset = DemoDataset(demo)\n",
    "    test_dataset = train_dataset\n",
    "\n",
    "\n",
    "train_dataloader = DataLoader(train_dataset, **params)\n",
    "test_dataloader = DataLoader(test_dataset)"
   ]
  },
  {
   "cell_type": "code",
   "execution_count": 27,
   "metadata": {
    "pycharm": {
     "name": "#%%\n"
    }
   },
   "outputs": [],
   "source": [
    "mlp_policy = nn.Sequential(\n",
    "    nn.Linear(state_space_size, 32),\n",
    "    nn.ReLU(),\n",
    "\n",
    "    nn.Linear(32, 64),\n",
    "    nn.ReLU(),\n",
    "\n",
    "    nn.Linear(64, 100),\n",
    "    nn.ReLU(),\n",
    "\n",
    "    nn.Linear(100, 256),\n",
    "    nn.ReLU(),\n",
    "\n",
    "\n",
    "    nn.Linear(256, 100),\n",
    "    nn.ReLU(),\n",
    "\n",
    "    \n",
    "    nn.Linear(100, 64),\n",
    "    nn.ReLU(),\n",
    "\n",
    "    nn.Linear(64, 32),\n",
    "    nn.ReLU(),\n",
    "\n",
    "    nn.Linear(32, action_space_size)\n",
    "    nn.Softmax()\n",
    ")\n",
    "\n",
    "criterion = nn.CrossEntropyLoss()"
   ]
  },
  {
   "cell_type": "code",
   "execution_count": 36,
   "metadata": {
    "pycharm": {
     "name": "#%%\n"
    }
   },
   "outputs": [
    {
     "name": "stdout",
     "output_type": "stream",
     "text": [
      "[EPOCH]: 7500, [CE LOSS]: 0.160915\n"
     ]
    }
   ],
   "source": [
    "losses = []\n",
    "max_epochs = 12500\n",
    "\n",
    "lr = 1.1e-5\n",
    "optimizer = torch.optim.Adam(mlp_policy.parameters(), lr=lr)\n",
    "\n",
    "for epoch in range(max_epochs):\n",
    "    total_loss = 0\n",
    "    for s, a in train_dataloader:\n",
    "        # transfer to device\n",
    "        s, a = s.to(device), a.to(device)\n",
    "\n",
    "        criterion.zero_grad()\n",
    "        \n",
    "        # model computations\n",
    "        a_pred = mlp_policy(s.type(torch.float))\n",
    "        loss = criterion(a_pred, a)\n",
    "        total_loss += loss.item()\n",
    "        optimizer.zero_grad()\n",
    "        loss.backward()\n",
    "        optimizer.step()\n",
    "\n",
    "    print(\"[EPOCH]: %i, [CE LOSS]: %.6f\" % (epoch+1, total_loss / len(train_dataloader)))\n",
    "\n",
    "    display.clear_output(wait=True)\n",
    "\n",
    "    losses.append(total_loss / len(train_dataloader))"
   ]
  },
  {
   "cell_type": "code",
   "execution_count": 37,
   "metadata": {},
   "outputs": [
    {
     "name": "stdout",
     "output_type": "stream",
     "text": [
      "tensor([2])\n",
      "tensor(2)\n",
      "tensor([2])\n",
      "tensor(2)\n",
      "tensor([2])\n",
      "tensor(2)\n",
      "tensor([2])\n",
      "tensor(2)\n",
      "tensor([2])\n",
      "tensor(2)\n",
      "tensor([1])\n",
      "tensor(2)\n",
      "tensor([2])\n",
      "tensor(2)\n",
      "tensor([2])\n",
      "tensor(2)\n",
      "tensor([2])\n",
      "tensor(2)\n",
      "tensor([2])\n",
      "tensor(2)\n",
      "tensor([2])\n",
      "tensor(2)\n",
      "tensor([2])\n",
      "tensor(2)\n",
      "tensor([2])\n",
      "tensor(2)\n",
      "tensor([2])\n",
      "tensor(2)\n",
      "tensor([3])\n",
      "tensor(3)\n",
      "tensor([1])\n",
      "tensor(2)\n",
      "tensor([2])\n",
      "tensor(2)\n",
      "tensor([2])\n",
      "tensor(2)\n",
      "tensor([2])\n",
      "tensor(2)\n",
      "tensor([2])\n",
      "tensor(2)\n",
      "tensor([2])\n",
      "tensor(2)\n",
      "tensor([2])\n",
      "tensor(2)\n",
      "tensor([2])\n",
      "tensor(2)\n",
      "tensor([2])\n",
      "tensor(2)\n",
      "tensor([1])\n",
      "tensor(4)\n",
      "tensor([4])\n",
      "tensor(4)\n",
      "tensor([5])\n",
      "tensor(5)\n",
      "TEST [CE LOSS]: 0.15530221194456914\n",
      "TEST [ACCURACY]: 0.8888888888888888\n"
     ]
    }
   ],
   "source": [
    "with torch.set_grad_enabled(False):\n",
    "    correct = 0\n",
    "    total_loss = 0\n",
    "    for s, a in test_dataloader:\n",
    "        s, a = s.to(device), a.to(device)\n",
    "        a_pred = mlp_policy(s.type(torch.float))\n",
    "        loss = criterion(a_pred, a)\n",
    "        total_loss += loss.item()\n",
    "            \n",
    "        print(a)\n",
    "        print(np.argmax(a_pred))\n",
    "        if a == np.argmax(a_pred):\n",
    "            correct += 1\n",
    "\n",
    "    \n",
    "    print(f'TEST [CE LOSS]: {total_loss / len(test_dataloader)}')\n",
    "    print(f'TEST [ACCURACY]: {correct / len(test_dataloader)}')"
   ]
  },
  {
   "cell_type": "code",
   "execution_count": 38,
   "metadata": {
    "pycharm": {
     "name": "#%%\n"
    }
   },
   "outputs": [
    {
     "data": {
      "image/png": "[encoded data removed]",
      "text/plain": [
       "<Figure size 640x480 with 1 Axes>"
      ]
     },
     "metadata": {},
     "output_type": "display_data"
    }
   ],
   "source": [
    "# save model\n",
    "torch.save(mlp_policy, f\"mlp_policy_lr={lr}_batch={params['batch_size']}_epochs={max_epochs}\")\n",
    "plt.plot(losses, label='train loss')\n",
    "plt.xlabel(\"num epochs\")\n",
    "plt.ylabel(\"ce loss\")\n",
    "plt.show()"
   ]
  },
  {
   "cell_type": "code",
   "execution_count": null,
   "metadata": {},
   "outputs": [],
   "source": []
  }
 ],
 "metadata": {
  "kernelspec": {
   "display_name": "Python 3 (ipykernel)",
   "language": "python",
   "name": "python3"
  },
  "language_info": {
   "codemirror_mode": {
    "name": "ipython",
    "version": 3
   },
   "file_extension": ".py",
   "mimetype": "text/x-python",
   "name": "python",
   "nbconvert_exporter": "python",
   "pygments_lexer": "ipython3",
   "version": "3.9.1"
  }
 },
 "nbformat": 4,
 "nbformat_minor": 1
}
